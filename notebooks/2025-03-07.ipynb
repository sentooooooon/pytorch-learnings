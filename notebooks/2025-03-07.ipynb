{
 "cells": [
  {
   "cell_type": "code",
   "execution_count": 27,
   "metadata": {},
   "outputs": [],
   "source": [
    "import torch\n",
    "from torch.utils.data import DataLoader, Dataset\n",
    "from torchvision import transforms\n",
    "from PIL import Image\n",
    "import os\n",
    "import torch.nn as nn\n",
    "import torch.optim as optim \n"
   ]
  },
  {
   "cell_type": "markdown",
   "metadata": {},
   "source": [
    "データローダについて学ぶ"
   ]
  },
  {
   "cell_type": "code",
   "execution_count": 15,
   "metadata": {},
   "outputs": [],
   "source": [
    "class SampleDataset(Dataset):\n",
    "    def __init__(self):\n",
    "        self.data = torch.arange(10)\n",
    "    \n",
    "    def __len__(self):\n",
    "        return len(self.data)\n",
    "    \n",
    "    def __getitem__(self, idx):\n",
    "        return self.data[idx]"
   ]
  },
  {
   "cell_type": "code",
   "execution_count": 16,
   "metadata": {},
   "outputs": [
    {
     "name": "stdout",
     "output_type": "stream",
     "text": [
      "tensor([3, 5, 1])\n",
      "tensor([7, 0, 4])\n",
      "tensor([2, 8, 6])\n",
      "tensor([9])\n"
     ]
    }
   ],
   "source": [
    "dataset = SampleDataset()\n",
    "dataloader = DataLoader(dataset, batch_size=3, shuffle=True)\n",
    "for batch in dataloader:\n",
    "    print(batch)"
   ]
  },
  {
   "cell_type": "markdown",
   "metadata": {},
   "source": [
    "画像のデータセットの作り方"
   ]
  },
  {
   "cell_type": "code",
   "execution_count": 20,
   "metadata": {},
   "outputs": [],
   "source": [
    "class ImageDataset(Dataset):\n",
    "    def __init__(self, image_dir, transform=None):\n",
    "        self.image_dir = image_dir\n",
    "        self.transform = transform\n",
    "        self.image_files = os.listdir(self.image_dir)\n",
    "\n",
    "    def __len__(self):\n",
    "        return len(self.image_files)\n",
    "    \n",
    "    def __getitem__(self, idx):\n",
    "        img_path = os.path.join(self.image_dir, self.image_files[idx])\n",
    "        image = Image.open(img_path).convert(\"RGB\")\n",
    "\n",
    "        if self.transform:\n",
    "            image = self.transform(image)\n",
    "\n",
    "        return image"
   ]
  },
  {
   "cell_type": "code",
   "execution_count": 23,
   "metadata": {},
   "outputs": [
    {
     "name": "stdout",
     "output_type": "stream",
     "text": [
      "torch.Size([4, 3, 128, 128])\n"
     ]
    }
   ],
   "source": [
    "transform = transforms.Compose([\n",
    "    transforms.Resize((128,128)),\n",
    "    transforms.ToTensor()\n",
    "])\n",
    "\n",
    "dataset = ImageDataset(image_dir=\"/home/sentooooooon/pytorch-learnings/data/sample_images\", transform=transform)\n",
    "Dataloader = DataLoader(dataset, batch_size=4, shuffle=True)\n",
    "\n",
    "for batch in Dataloader:\n",
    "    print(batch.shape)"
   ]
  },
  {
   "cell_type": "markdown",
   "metadata": {},
   "source": [
    "MSEについて学ぶ"
   ]
  },
  {
   "cell_type": "code",
   "execution_count": 26,
   "metadata": {},
   "outputs": [
    {
     "name": "stdout",
     "output_type": "stream",
     "text": [
      "loss 0.75\n"
     ]
    }
   ],
   "source": [
    "mse_loss = nn.MSELoss()\n",
    "\n",
    "y_true = torch.tensor([3.0, 5.0, 7.0])\n",
    "y_pred = torch.tensor([2.5, 4.0, 6.0])\n",
    "\n",
    "loss = mse_loss(y_pred, y_true)\n",
    "\n",
    "print(f\"loss {loss.item()}\")"
   ]
  },
  {
   "cell_type": "markdown",
   "metadata": {},
   "source": [
    "簡単な回帰モデルを作ってみる。"
   ]
  },
  {
   "cell_type": "code",
   "execution_count": 28,
   "metadata": {},
   "outputs": [
    {
     "name": "stdout",
     "output_type": "stream",
     "text": [
      "Epoch [1/10], Loss: 50.1088\n",
      "Epoch [2/10], Loss: 34.8055\n",
      "Epoch [3/10], Loss: 24.1866\n",
      "Epoch [4/10], Loss: 16.8182\n",
      "Epoch [5/10], Loss: 11.7053\n",
      "Epoch [6/10], Loss: 8.1572\n",
      "Epoch [7/10], Loss: 5.6951\n",
      "Epoch [8/10], Loss: 3.9865\n",
      "Epoch [9/10], Loss: 2.8008\n",
      "Epoch [10/10], Loss: 1.9778\n"
     ]
    }
   ],
   "source": [
    "x = torch.tensor([[1.0], [2.0], [3.0], [4.0]])\n",
    "y = torch.tensor([[3.0], [5.0], [7.0], [9.0]])\n",
    "\n",
    "model = nn.Linear(1, 1)\n",
    "\n",
    "loss_fn = nn.MSELoss()\n",
    "optimizer = optim.SGD(model.parameters(), lr=0.01)\n",
    "\n",
    "for epoch in range(10):\n",
    "    y_pred = model(x)  # 予測\n",
    "    loss = loss_fn(y_pred, y)  # 損失計算\n",
    "\n",
    "    optimizer.zero_grad()  # 勾配リセット\n",
    "    loss.backward()  # 勾配計算\n",
    "    optimizer.step()  # パラメータ更新\n",
    "\n",
    "    print(f\"Epoch [{epoch+1}/10], Loss: {loss.item():.4f}\")"
   ]
  },
  {
   "cell_type": "code",
   "execution_count": 51,
   "metadata": {},
   "outputs": [
    {
     "name": "stdout",
     "output_type": "stream",
     "text": [
      "x: torch.Size([10, 1]), y: torch.Size([10, 1])\n"
     ]
    }
   ],
   "source": [
    "class RegressionDataset(Dataset):\n",
    "    def __init__(self, size=100):\n",
    "        self.x = torch.linspace(0, 10, size).view(-1,1)\n",
    "        self.y = 2* self.x + 1 + torch.randn(size, 1) * 0.5\n",
    "        \n",
    "    def __len__(self):\n",
    "        return len(self.x)\n",
    "\n",
    "    def __getitem__(self, idx):\n",
    "        return self.x[idx], self.y[idx]\n",
    "    \n",
    "\n",
    "dataset = RegressionDataset()\n",
    "dataloader = DataLoader(dataset, batch_size=10, shuffle=True)\n",
    "\n",
    "for x_batch, y_batch in dataloader:\n",
    "    print(f\"x: {x_batch.shape}, y: {y_batch.shape}\")  # 期待: torch.Size([10, 1]), torch.Size([10, 1])\n",
    "    break  # 1バッチだけ表示"
   ]
  },
  {
   "cell_type": "code",
   "execution_count": 52,
   "metadata": {},
   "outputs": [
    {
     "name": "stdout",
     "output_type": "stream",
     "text": [
      "Epoch [1/20], Loss: 0.2211\n",
      "Epoch [2/20], Loss: 0.5926\n",
      "Epoch [3/20], Loss: 0.4903\n",
      "Epoch [4/20], Loss: 0.3172\n",
      "Epoch [5/20], Loss: 0.2297\n",
      "Epoch [6/20], Loss: 0.1915\n",
      "Epoch [7/20], Loss: 0.5727\n",
      "Epoch [8/20], Loss: 0.2228\n",
      "Epoch [9/20], Loss: 0.5355\n",
      "Epoch [10/20], Loss: 0.3908\n",
      "Epoch [11/20], Loss: 0.0945\n",
      "Epoch [12/20], Loss: 0.0804\n",
      "Epoch [13/20], Loss: 0.4437\n",
      "Epoch [14/20], Loss: 0.1064\n",
      "Epoch [15/20], Loss: 0.2101\n",
      "Epoch [16/20], Loss: 0.0336\n",
      "Epoch [17/20], Loss: 0.2913\n",
      "Epoch [18/20], Loss: 0.3045\n",
      "Epoch [19/20], Loss: 0.2649\n",
      "Epoch [20/20], Loss: 0.3030\n",
      "Learned weight: 2.0471, bias: 0.5361\n"
     ]
    }
   ],
   "source": [
    "\n",
    "# ✅ シンプルな線形回帰モデル\n",
    "model = nn.Linear(1, 1)  # 入力1, 出力1\n",
    "\n",
    "# ✅ 損失関数 & 最適化アルゴリズム\n",
    "loss_fn = nn.MSELoss()\n",
    "optimizer = optim.SGD(model.parameters(), lr=0.01)\n",
    "\n",
    "# ✅ 学習ループ\n",
    "num_epochs = 20\n",
    "for epoch in range(num_epochs):\n",
    "    for x_batch, y_batch in dataloader:  # `DataLoader` でミニバッチ学習\n",
    "        y_pred = model(x_batch)  # 予測\n",
    "        loss = loss_fn(y_pred, y_batch)  # 損失計算\n",
    "\n",
    "        optimizer.zero_grad()\n",
    "        loss.backward()\n",
    "        optimizer.step()\n",
    "\n",
    "    print(f\"Epoch [{epoch+1}/{num_epochs}], Loss: {loss.item():.4f}\")\n",
    "\n",
    "# ✅ 学習後のモデルのパラメータ（理想的には `w ≈ 2, b ≈ 1`）\n",
    "print(f\"Learned weight: {model.weight.item():.4f}, bias: {model.bias.item():.4f}\")\n"
   ]
  },
  {
   "cell_type": "code",
   "execution_count": null,
   "metadata": {},
   "outputs": [
    {
     "data": {
      "image/png": "[encoded data removed]",
      "text/plain": [
       "<Figure size 640x480 with 1 Axes>"
      ]
     },
     "metadata": {},
     "output_type": "display_data"
    }
   ],
   "source": [
    "import matplotlib.pyplot as plt\n",
    "\n",
    "x_test = x_test = torch.linspace(0, 10, 100).view(-1, 1)  # 0〜10 の新しいデータ\n",
    "y_pred = model(x_test).detach().numpy()\n",
    "\n",
    "plt.scatter(dataset.x.numpy(), dataset.y.numpy(), label=\"Original Data\", color=\"blue\", alpha=0.5)\n",
    "\n",
    "plt.plot(x_test.numpy(), y_pred, label=\"Model Prediction\", color=\"red\")\n",
    "\n",
    "plt.xlabel(\"x\")\n",
    "plt.ylabel(\"y\")\n",
    "plt.legend()\n",
    "plt.title(\"Linear Regression Model Fit\")\n",
    "plt.show()"
   ]
  },
  {
   "cell_type": "markdown",
   "metadata": {},
   "source": [
    "ここからはCNNを学ぶ"
   ]
  },
  {
   "cell_type": "code",
   "execution_count": 54,
   "metadata": {},
   "outputs": [
    {
     "name": "stdout",
     "output_type": "stream",
     "text": [
      "畳み込み結果：\n",
      "tensor([[ 1., -1., -2.],\n",
      "        [ 2.,  2., -2.],\n",
      "        [ 0., -1.,  1.]], grad_fn=<SqueezeBackward0>)\n"
     ]
    }
   ],
   "source": [
    "image = torch.tensor([\n",
    "    [3, 1, 2, 0, 1],\n",
    "    [0, 1, 3, 2, 2],\n",
    "    [1, 2, 0, 1, 0],\n",
    "    [2, 1, 2, 3, 1],\n",
    "    [0, 2, 1, 0, 3]\n",
    "], dtype=torch.float32).view(1, 1, 5, 5) \n",
    "\n",
    "conv = nn.Conv2d(in_channels=1, out_channels=1, kernel_size=3, stride=1, padding=0, bias=False)\n",
    "conv.weight.data = torch.tensor([\n",
    "    [[[-1, 0, 1],\n",
    "      [-1, 0, 1],\n",
    "      [-1, 0, 1]]]\n",
    "], dtype=torch.float32)\n",
    "\n",
    "\n",
    "# ✅ 畳み込みを適用\n",
    "output = conv(image)\n",
    "\n",
    "print(\"畳み込み結果：\")\n",
    "print(output.squeeze())  # 出力を見やすく"
   ]
  },
  {
   "cell_type": "code",
   "execution_count": 55,
   "metadata": {},
   "outputs": [
    {
     "name": "stdout",
     "output_type": "stream",
     "text": [
      "出力サイズ（パディングなし）: torch.Size([1, 1, 3, 3])\n",
      "出力サイズ（パディングあり）: torch.Size([1, 1, 5, 5])\n"
     ]
    }
   ],
   "source": [
    "\n",
    "\n",
    "# ✅ ダミー画像（1チャネル, 5×5 の白黒画像）\n",
    "image = torch.tensor([\n",
    "    [3, 1, 2, 0, 1],\n",
    "    [0, 1, 3, 2, 2],\n",
    "    [1, 2, 0, 1, 0],\n",
    "    [2, 1, 2, 3, 1],\n",
    "    [0, 2, 1, 0, 3]\n",
    "], dtype=torch.float32).view(1, 1, 5, 5)  # (バッチサイズ=1, チャンネル=1, 高さ=5, 幅=5)\n",
    "\n",
    "# ✅ パディングなし（padding=0）\n",
    "conv1 = nn.Conv2d(in_channels=1, out_channels=1, kernel_size=3, stride=1, padding=0, bias=False)\n",
    "print(f\"出力サイズ（パディングなし）: {conv1(image).shape}\")  # torch.Size([1, 1, 3, 3])\n",
    "\n",
    "# ✅ パディングあり（padding=1）\n",
    "conv2 = nn.Conv2d(in_channels=1, out_channels=1, kernel_size=3, stride=1, padding=1, bias=False)\n",
    "print(f\"出力サイズ（パディングあり）: {conv2(image).shape}\")  # torch.Size([1, 1, 5, 5])\n"
   ]
  },
  {
   "cell_type": "code",
   "execution_count": 56,
   "metadata": {},
   "outputs": [],
   "source": [
    "import torch\n",
    "import torchvision\n",
    "import torchvision.transforms as transforms\n",
    "from torch.utils.data import DataLoader"
   ]
  },
  {
   "cell_type": "code",
   "execution_count": null,
   "metadata": {},
   "outputs": [
    {
     "name": "stderr",
     "output_type": "stream",
     "text": [
      "100%|██████████| 9.91M/9.91M [00:07<00:00, 1.28MB/s]\n",
      "100%|██████████| 28.9k/28.9k [00:00<00:00, 407kB/s]\n",
      "100%|██████████| 1.65M/1.65M [00:00<00:00, 3.03MB/s]\n",
      "100%|██████████| 4.54k/4.54k [00:00<00:00, 2.93MB/s]\n",
      "100%|██████████| 9.91M/9.91M [00:00<00:00, 10.8MB/s]\n",
      "100%|██████████| 28.9k/28.9k [00:00<00:00, 400kB/s]\n",
      "100%|██████████| 1.65M/1.65M [00:00<00:00, 3.29MB/s]\n",
      "100%|██████████| 4.54k/4.54k [00:00<00:00, 3.28MB/s]"
     ]
    },
    {
     "name": "stdout",
     "output_type": "stream",
     "text": [
      "📌 画像のサイズ: torch.Size([64, 1, 28, 28]), ラベル: torch.Size([64])\n"
     ]
    },
    {
     "name": "stderr",
     "output_type": "stream",
     "text": [
      "\n"
     ]
    }
   ],
   "source": [
    "transform = transforms.Compose([\n",
    "    transforms.ToTensor(),\n",
    "    transforms.Normalize((0.5,), (0.5,))\n",
    "])\n",
    "\n",
    "train_dataset = torchvision.datasets.MNIST(root=\"/home/sentooooooon/pytorch-learnings/data\", train=True, transform=transform, download=True)\n",
    "test_dataset = torchvision.datasets.MNIST(root=\"/home/sentooooooon/pytorch-learnings/data\", train=False, transform=transform, download=True)\n",
    "\n",
    "# ✅ DataLoader でバッチ処理\n",
    "train_loader = DataLoader(train_dataset, batch_size=64, shuffle=True)\n",
    "test_loader = DataLoader(test_dataset, batch_size=64, shuffle=False)\n",
    "\n",
    "images, labels = next(iter(train_loader))\n",
    "print(f\"📌 画像のサイズ: {images.shape}, ラベル: {labels.shape}\") "
   ]
  },
  {
   "cell_type": "code",
   "execution_count": 65,
   "metadata": {},
   "outputs": [
    {
     "name": "stdout",
     "output_type": "stream",
     "text": [
      "SimpleCNN(\n",
      "  (conv1): Conv2d(1, 8, kernel_size=(3, 3), stride=(1, 1), padding=(1, 1))\n",
      "  (pool): MaxPool2d(kernel_size=2, stride=2, padding=0, dilation=1, ceil_mode=False)\n",
      "  (conv2): Conv2d(8, 16, kernel_size=(3, 3), stride=(1, 1), padding=(1, 1))\n",
      "  (fc1): Linear(in_features=784, out_features=128, bias=True)\n",
      "  (fc2): Linear(in_features=128, out_features=10, bias=True)\n",
      ")\n"
     ]
    }
   ],
   "source": [
    "import torch.nn as nn\n",
    "import torch.nn.functional as F\n",
    "\n",
    "# ✅ CNN モデルを定義\n",
    "class SimpleCNN(nn.Module):\n",
    "    def __init__(self):\n",
    "        super(SimpleCNN, self).__init__()\n",
    "        self.conv1 = nn.Conv2d(in_channels=1, out_channels=8, kernel_size=3, padding=1)  # 28x28 → 28x28\n",
    "        self.pool = nn.MaxPool2d(kernel_size=2, stride=2)  # 28x28 → 14x14\n",
    "        self.conv2 = nn.Conv2d(in_channels=8, out_channels=16, kernel_size=3, padding=1)  # 14x14 → 14x14\n",
    "        self.fc1 = nn.Linear(16 * 7 * 7, 128)  # 全結合層\n",
    "        self.fc2 = nn.Linear(128, 10)  # 出力層（10クラス分類）\n",
    "\n",
    "    def forward(self, x):\n",
    "        x = self.pool(F.relu(self.conv1(x)))  # 畳み込み → ReLU → プーリング\n",
    "        x = self.pool(F.relu(self.conv2(x)))  # 畳み込み → ReLU → プーリング\n",
    "        x = torch.flatten(x, 1)  # 2D を 1D に変換\n",
    "        x = F.relu(self.fc1(x))  # 全結合層\n",
    "        x = self.fc2(x)  # 出力層\n",
    "        return x\n",
    "\n",
    "# ✅ モデルをインスタンス化\n",
    "model = SimpleCNN()\n",
    "print(model)\n"
   ]
  },
  {
   "cell_type": "code",
   "execution_count": 66,
   "metadata": {},
   "outputs": [
    {
     "name": "stdout",
     "output_type": "stream",
     "text": [
      "Epoch [1/5], Loss: 0.2325\n",
      "Epoch [2/5], Loss: 0.0690\n",
      "Epoch [3/5], Loss: 0.0485\n",
      "Epoch [4/5], Loss: 0.0373\n",
      "Epoch [5/5], Loss: 0.0306\n",
      "✅ 学習完了！\n"
     ]
    }
   ],
   "source": [
    "import torch.optim as optim\n",
    "\n",
    "# ✅ 損失関数 & 最適化手法\n",
    "criterion = nn.CrossEntropyLoss()  # 損失関数（分類タスク用）\n",
    "optimizer = optim.Adam(model.parameters(), lr=0.001)  # 最適化アルゴリズム\n",
    "\n",
    "# ✅ 学習ループ\n",
    "num_epochs = 5\n",
    "for epoch in range(num_epochs):\n",
    "    running_loss = 0.0\n",
    "    for images, labels in train_loader:\n",
    "        optimizer.zero_grad()  # 勾配の初期化\n",
    "        outputs = model(images)  # 予測\n",
    "        loss = criterion(outputs, labels)  # 損失計算\n",
    "        loss.backward()  # 逆伝播\n",
    "        optimizer.step()  # パラメータ更新\n",
    "        running_loss += loss.item()\n",
    "\n",
    "    print(f\"Epoch [{epoch+1}/{num_epochs}], Loss: {running_loss / len(train_loader):.4f}\")\n",
    "\n",
    "print(\"✅ 学習完了！\")\n"
   ]
  },
  {
   "cell_type": "code",
   "execution_count": 67,
   "metadata": {},
   "outputs": [
    {
     "name": "stdout",
     "output_type": "stream",
     "text": [
      "✅ テスト精度: 98.87%\n"
     ]
    }
   ],
   "source": [
    "correct = 0\n",
    "total = 0\n",
    "with torch.no_grad():  # 勾配を記録しない（評価時は不要）\n",
    "    for images, labels in test_loader:\n",
    "        outputs = model(images)  # 予測\n",
    "        _, predicted = torch.max(outputs, 1)  # 最も確率が高いクラスを取得\n",
    "        total += labels.size(0)\n",
    "        correct += (predicted == labels).sum().item()\n",
    "\n",
    "accuracy = 100 * correct / total\n",
    "print(f\"✅ テスト精度: {accuracy:.2f}%\")\n"
   ]
  }
 ],
 "metadata": {
  "kernelspec": {
   "display_name": "Python (venv)",
   "language": "python",
   "name": "venv"
  },
  "language_info": {
   "codemirror_mode": {
    "name": "ipython",
    "version": 3
   },
   "file_extension": ".py",
   "mimetype": "text/x-python",
   "name": "python",
   "nbconvert_exporter": "python",
   "pygments_lexer": "ipython3",
   "version": "3.10.12"
  }
 },
 "nbformat": 4,
 "nbformat_minor": 2
}
