{
 "cells": [
  {
   "cell_type": "code",
   "execution_count": 1,
   "metadata": {},
   "outputs": [],
   "source": [
    "import torch\n",
    "import torch.nn as nn\n",
    "import torch.optim as optim\n",
    "import torch.nn.functional as F\n",
    "import torchvision"
   ]
  },
  {
   "cell_type": "code",
   "execution_count": 2,
   "metadata": {},
   "outputs": [],
   "source": [
    "#prepare transform\n",
    "\n",
    "transform = torchvision.transforms.Compose([\n",
    "    torchvision.transforms.ToTensor()\n",
    "])"
   ]
  },
  {
   "cell_type": "code",
   "execution_count": 3,
   "metadata": {},
   "outputs": [],
   "source": [
    "# prepare datasets\n",
    "\n",
    "BATCH_SIZE = 50\n",
    "\n",
    "train_datasets = torchvision.datasets.CIFAR10(\n",
    "    root=\"../data\",\n",
    "    train=True,\n",
    "    transform=transform,\n",
    "    download=True,\n",
    ")\n",
    "\n",
    "train_loader = torch.utils.data.DataLoader(\n",
    "    train_datasets,\n",
    "    batch_size=BATCH_SIZE,\n",
    "    shuffle=True,\n",
    "    num_workers=2\n",
    ")"
   ]
  },
  {
   "cell_type": "code",
   "execution_count": 4,
   "metadata": {},
   "outputs": [],
   "source": [
    "test_datasets = torchvision.datasets.CIFAR10(\n",
    "    root=\"../data\",\n",
    "    train=False,  # ✅ テストデータにする\n",
    "    transform=transform,\n",
    "    download=True,\n",
    ")\n",
    "\n",
    "test_loader = torch.utils.data.DataLoader(\n",
    "    test_datasets,\n",
    "    batch_size=BATCH_SIZE,\n",
    "    shuffle=False,  # テストなのでシャッフル不要\n",
    "    num_workers=2\n",
    ")"
   ]
  },
  {
   "cell_type": "code",
   "execution_count": 5,
   "metadata": {},
   "outputs": [],
   "source": [
    "#make CNN model\n",
    "\n",
    "class CNN(nn.Module):\n",
    "    def __init__(self):\n",
    "        super(CNN, self).__init__()\n",
    "        self.conv1 = nn.Conv2d(in_channels=3, out_channels=32, kernel_size=3, padding=1)\n",
    "        self.conv2 = nn.Conv2d(in_channels=32, out_channels=64, kernel_size=3, padding=1)\n",
    "        self.pool = nn.MaxPool2d(kernel_size=2, stride=2)\n",
    "        \n",
    "        self.fc1 = nn.Linear(64 * 8 * 8, 128)  # 修正: 64*8*8に変更\n",
    "        self.fc2 = nn.Linear(128, 10)  # 10クラス分類\n",
    "    \n",
    "    def forward(self, x):\n",
    "        x = self.pool(F.relu(self.conv1(x)))  # ✅ conv1 → ReLU → MaxPool\n",
    "        x = self.pool(F.relu(self.conv2(x)))  # ✅ conv2 → ReLU → MaxPool\n",
    "\n",
    "        x = x.view(x.size(0), -1)  # ✅ Flatten（batch_size, 64 * 8 * 8）\n",
    "        \n",
    "        x = F.relu(self.fc1(x))  # ✅ FC1 → ReLU\n",
    "        x = self.fc2(x)  # ✅ FC2（出力層）\n",
    "\n",
    "        return x"
   ]
  },
  {
   "cell_type": "code",
   "execution_count": 6,
   "metadata": {},
   "outputs": [],
   "source": [
    "model = CNN()\n",
    "criterion = nn.CrossEntropyLoss()  # 損失関数\n",
    "optimizer = optim.Adam(model.parameters(), lr=0.001)  # 最適化手法\n"
   ]
  },
  {
   "cell_type": "code",
   "execution_count": 7,
   "metadata": {},
   "outputs": [],
   "source": [
    "#評価関数\n",
    "\n",
    "def eval(model, test_loader, writer, epoch, device=\"cpu\"):\n",
    "    model.to(device)\n",
    "    model.eval()\n",
    "    \n",
    "    correct = 0\n",
    "    total = 0\n",
    "    \n",
    "    with torch.no_grad():\n",
    "        for images, labels in test_loader:\n",
    "            images, labels = images.to(device), labels.to(device)\n",
    "            outputs = model(images)\n",
    "            _, predicted = torch.max(outputs, 1)\n",
    "            correct += (predicted == labels).sum().item()\n",
    "            total += labels.size(0)\n",
    "            \n",
    "    accuracy = correct / total * 100\n",
    "    print(f\"Test Accuracy: {accuracy:.2f}%\")\n",
    "    writer.add_scalar(\"Accuracy/test\", accuracy, epoch)\n",
    "    return accuracy"
   ]
  },
  {
   "cell_type": "code",
   "execution_count": null,
   "metadata": {},
   "outputs": [],
   "source": [
    "#define training function\n",
    "from torch.utils.tensorboard import SummaryWriter\n",
    "\n",
    "def train(model, trainloader, criterion, optimizer, num_epochs = 5, device = \"cpu\"):\n",
    "    model.to(device)\n",
    "    writer = SummaryWriter(log_dir=\"runs/cnn_exp_2025-02-28-epoch=10\")\n",
    "    \n",
    "    for epoch in range(num_epochs):\n",
    "        model.train()\n",
    "        running_loss = 0.0\n",
    "        correct = 0\n",
    "        total = 0\n",
    "        \n",
    "        for images, labels in train_loader:\n",
    "            images, labels = images.to(device), labels.to(device)\n",
    "\n",
    "            optimizer.zero_grad()\n",
    "            outputs = model(images)\n",
    "            loss = criterion(outputs, labels)\n",
    "            loss.backward()\n",
    "            optimizer.step()\n",
    "\n",
    "            running_loss += loss.item()\n",
    "            _, predicted = torch.max(outputs, 1)\n",
    "            correct += (predicted == labels).sum().item()\n",
    "            total += labels.size(0)\n",
    "\n",
    "        epoch_loss = running_loss / len(train_loader)\n",
    "        epoch_acc = correct / total if total > 0 else 0\n",
    "\n",
    "        writer.add_scalar(\"Loss/train\", epoch_loss, epoch)\n",
    "        writer.add_scalar(\"Accuracy/train\", epoch_acc, epoch)\n",
    "\n",
    "        # 🔥 各エポックごとに `evaluate()` を呼び出す！\n",
    "        test_acc = eval(model, test_loader, writer, epoch, device)\n",
    "\n",
    "        print(f\"Epoch {epoch+1}/{num_epochs} - Loss: {epoch_loss:.4f} - Train Acc: {epoch_acc:.2%} - Test Acc: {test_acc:.2f}%\")\n",
    "\n",
    "    writer.close()\n",
    "    print(\"Training Finished\")"
   ]
  },
  {
   "cell_type": "code",
   "execution_count": 9,
   "metadata": {},
   "outputs": [
    {
     "name": "stdout",
     "output_type": "stream",
     "text": [
      "Test Accuracy: 59.00%\n",
      "Epoch 1/10 - Loss: 1.4486 - Train Acc: 47.80% - Test Acc: 59.00%\n",
      "Test Accuracy: 64.45%\n",
      "Epoch 2/10 - Loss: 1.0929 - Train Acc: 61.30% - Test Acc: 64.45%\n",
      "Test Accuracy: 65.20%\n",
      "Epoch 3/10 - Loss: 0.9479 - Train Acc: 66.46% - Test Acc: 65.20%\n",
      "Test Accuracy: 68.75%\n",
      "Epoch 4/10 - Loss: 0.8553 - Train Acc: 70.04% - Test Acc: 68.75%\n",
      "Test Accuracy: 70.01%\n",
      "Epoch 5/10 - Loss: 0.7724 - Train Acc: 72.83% - Test Acc: 70.01%\n",
      "Test Accuracy: 68.52%\n",
      "Epoch 6/10 - Loss: 0.7052 - Train Acc: 75.15% - Test Acc: 68.52%\n",
      "Test Accuracy: 70.64%\n",
      "Epoch 7/10 - Loss: 0.6437 - Train Acc: 77.35% - Test Acc: 70.64%\n",
      "Test Accuracy: 70.33%\n",
      "Epoch 8/10 - Loss: 0.5898 - Train Acc: 79.17% - Test Acc: 70.33%\n",
      "Test Accuracy: 70.75%\n",
      "Epoch 9/10 - Loss: 0.5323 - Train Acc: 81.34% - Test Acc: 70.75%\n",
      "Test Accuracy: 70.35%\n",
      "Epoch 10/10 - Loss: 0.4786 - Train Acc: 83.09% - Test Acc: 70.35%\n"
     ]
    }
   ],
   "source": [
    "\n",
    "train(model, train_loader, criterion, optimizer, num_epochs=10 )"
   ]
  }
 ],
 "metadata": {
  "kernelspec": {
   "display_name": "Python (venv)",
   "language": "python",
   "name": "venv"
  },
  "language_info": {
   "codemirror_mode": {
    "name": "ipython",
    "version": 3
   },
   "file_extension": ".py",
   "mimetype": "text/x-python",
   "name": "python",
   "nbconvert_exporter": "python",
   "pygments_lexer": "ipython3",
   "version": "3.10.12"
  }
 },
 "nbformat": 4,
 "nbformat_minor": 2
}
