{
 "cells": [
  {
   "cell_type": "code",
   "execution_count": 1,
   "metadata": {},
   "outputs": [],
   "source": [
    "import torch\n",
    "import torch.nn as nn\n",
    "import torch.optim as optim\n",
    "import torch.nn.functional as F\n",
    "import torchvision"
   ]
  },
  {
   "cell_type": "code",
   "execution_count": 2,
   "metadata": {},
   "outputs": [],
   "source": [
    "#prepare transform\n",
    "\n",
    "transform = torchvision.transforms.Compose([\n",
    "    torchvision.transforms.ToTensor()\n",
    "])"
   ]
  },
  {
   "cell_type": "code",
   "execution_count": 3,
   "metadata": {},
   "outputs": [],
   "source": [
    "# prepare datasets\n",
    "\n",
    "BATCH_SIZE = 50\n",
    "\n",
    "train_datasets = torchvision.datasets.CIFAR10(\n",
    "    root=\"../data\",\n",
    "    train=True,\n",
    "    transform=transform,\n",
    "    download=True,\n",
    ")\n",
    "\n",
    "train_loader = torch.utils.data.DataLoader(\n",
    "    train_datasets,\n",
    "    batch_size=BATCH_SIZE,\n",
    "    shuffle=True,\n",
    "    num_workers=2\n",
    ")"
   ]
  },
  {
   "cell_type": "code",
   "execution_count": 4,
   "metadata": {},
   "outputs": [
    {
     "name": "stdout",
     "output_type": "stream",
     "text": [
      "torch.Size([50, 3, 32, 32])\n",
      "torch.Size([50])\n",
      "tensor([0, 1, 2, 3, 4, 5, 6, 7, 8, 9])\n",
      "Total training samples: 50000\n",
      "Total batches: 1000\n"
     ]
    }
   ],
   "source": [
    "#check the size of data\n",
    "\n",
    "x_iter = iter(train_loader)\n",
    "im, la = next(x_iter)\n",
    "\n",
    "print(im.shape)\n",
    "print(la.shape)\n",
    "print(torch.unique(la))\n",
    "\n",
    "print(f\"Total training samples: {len(train_datasets)}\")\n",
    "print(f\"Total batches: {len(train_loader)}\")"
   ]
  },
  {
   "cell_type": "code",
   "execution_count": 5,
   "metadata": {},
   "outputs": [],
   "source": [
    "#make CNN model\n",
    "\n",
    "class CNN(nn.Module):\n",
    "    def __init__(self):\n",
    "        super(CNN, self).__init__()\n",
    "        self.conv1 = nn.Conv2d(in_channels=3, out_channels=32, kernel_size=3, padding=1)\n",
    "        self.conv2 = nn.Conv2d(in_channels=32, out_channels=64, kernel_size=3, padding=1)\n",
    "        self.pool = nn.MaxPool2d(kernel_size=2, stride=2)\n",
    "        \n",
    "        self.fc1 = nn.Linear(64 * 8 * 8, 128)  # 修正: 64*8*8に変更\n",
    "        self.fc2 = nn.Linear(128, 10)  # 10クラス分類\n",
    "    \n",
    "    def forward(self, x):\n",
    "        x = self.pool(F.relu(self.conv1(x)))  # ✅ conv1 → ReLU → MaxPool\n",
    "        x = self.pool(F.relu(self.conv2(x)))  # ✅ conv2 → ReLU → MaxPool\n",
    "\n",
    "        x = x.view(x.size(0), -1)  # ✅ Flatten（batch_size, 64 * 8 * 8）\n",
    "        \n",
    "        x = F.relu(self.fc1(x))  # ✅ FC1 → ReLU\n",
    "        x = self.fc2(x)  # ✅ FC2（出力層）\n",
    "\n",
    "        return x"
   ]
  },
  {
   "cell_type": "code",
   "execution_count": 6,
   "metadata": {},
   "outputs": [],
   "source": [
    "model = CNN()\n",
    "criterion = nn.CrossEntropyLoss()  # 損失関数\n",
    "optimizer = optim.Adam(model.parameters(), lr=0.001)  # 最適化手法\n"
   ]
  },
  {
   "cell_type": "code",
   "execution_count": 7,
   "metadata": {},
   "outputs": [],
   "source": [
    "#define training function\n",
    "from torch.utils.tensorboard import SummaryWriter\n",
    "\n",
    "def train(model, trainloader, criterion, optimizer, num_epochs = 5, device = \"cpu\"):\n",
    "    model.to(device)\n",
    "    writer = SummaryWriter(log_dir=\"runs/cnn_exp_2025-02-25\")\n",
    "    \n",
    "    for epoch in range(num_epochs):\n",
    "        model.train()\n",
    "        running_loss = 0\n",
    "        correct = 0\n",
    "        total = 0\n",
    "        \n",
    "        for images, labels in trainloader:\n",
    "            images, labels = images.to(device), labels.to(device)\n",
    "            \n",
    "            optimizer.zero_grad()\n",
    "            output = model(images)\n",
    "            loss = criterion(output, labels)\n",
    "            loss.backward()\n",
    "            optimizer.step()\n",
    "            \n",
    "            running_loss += loss.item()\n",
    "            _, predicted = torch.max(output, 1)\n",
    "            correct += (predicted == labels).sum().item()\n",
    "            total += labels.size(0)\n",
    "            \n",
    "        epoch_loss = running_loss / len(trainloader)\n",
    "        epoch_acc = correct / total # ✅ 修正\n",
    "        print(f\"Epoch {epoch+1}/{num_epochs} - Loss: {epoch_loss:.4f} - Accuracy: {epoch_acc:.2%}\")\n",
    "        \n",
    "        #add info on tensorboard\n",
    "        writer.add_scalar(\"Loss/train\", epoch_loss, epoch)\n",
    "        writer.add_scalar(\"Accuracy/train\", epoch_acc, epoch)\n",
    "        for name, param in model.named_parameters():\n",
    "            writer.add_histogram(f\"weights/{name}\", param, epoch)\n",
    "            writer.add_histogram(f\"grads/{name}\", param.grad, epoch)\n",
    "    writer.close()\n",
    "    print(\"training finish\")"
   ]
  },
  {
   "cell_type": "code",
   "execution_count": 8,
   "metadata": {},
   "outputs": [
    {
     "name": "stdout",
     "output_type": "stream",
     "text": [
      "Epoch 1/5 - Loss: 1.4727 - Accuracy: 46.80%\n",
      "Epoch 2/5 - Loss: 1.1197 - Accuracy: 60.19%\n",
      "Epoch 3/5 - Loss: 0.9660 - Accuracy: 66.07%\n",
      "Epoch 4/5 - Loss: 0.8695 - Accuracy: 69.50%\n",
      "Epoch 5/5 - Loss: 0.7922 - Accuracy: 72.35%\n",
      "training finish\n"
     ]
    }
   ],
   "source": [
    "train(model, train_loader, criterion, optimizer, num_epochs=5 )"
   ]
  }
 ],
 "metadata": {
  "kernelspec": {
   "display_name": "Python (venv)",
   "language": "python",
   "name": "venv"
  },
  "language_info": {
   "codemirror_mode": {
    "name": "ipython",
    "version": 3
   },
   "file_extension": ".py",
   "mimetype": "text/x-python",
   "name": "python",
   "nbconvert_exporter": "python",
   "pygments_lexer": "ipython3",
   "version": "3.10.12"
  }
 },
 "nbformat": 4,
 "nbformat_minor": 2
}
